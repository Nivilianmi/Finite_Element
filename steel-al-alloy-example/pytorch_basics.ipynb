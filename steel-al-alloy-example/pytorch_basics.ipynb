{
 "cells": [
  {
   "cell_type": "code",
   "execution_count": 13,
   "metadata": {},
   "outputs": [],
   "source": [
    "import torch\n",
    "import torch.nn as nn\n",
    "import torch.nn.functional as F\n",
    "import random\n",
    "import numpy as np"
   ]
  },
  {
   "cell_type": "code",
   "execution_count": 14,
   "metadata": {},
   "outputs": [],
   "source": [
    "# class Net(nn.Module):\n",
    "#     def __init__(self):\n",
    "#         super(Net, self).__init__()\n",
    "#         self.thing = nn.Parameter(torch.rand(10), requires_grad=True)\n",
    "    \n",
    "#     def forward(self):\n",
    "#         return self.thing"
   ]
  },
  {
   "cell_type": "code",
   "execution_count": 15,
   "metadata": {},
   "outputs": [],
   "source": [
    "# net = Net()\n",
    "\n",
    "# learning_rate = 0.1\n",
    "\n",
    "# loss_fn = nn.MSELoss()\n",
    "\n",
    "# optimizer = torch.optim.SGD(net.parameters(), lr=learning_rate)"
   ]
  },
  {
   "cell_type": "code",
   "execution_count": 16,
   "metadata": {},
   "outputs": [],
   "source": [
    "# ideal_weights = torch.tensor([0.0027] * 10)\n",
    "# for epoch in range(100):\n",
    "#     optimizer.zero_grad()\n",
    "#     pred = net()\n",
    "#     print(pred)\n",
    "\n",
    "#     weight = torch.zeros(10)\n",
    "#     for i in range(10):\n",
    "#         if pred[i].item() > 0.5:\n",
    "#             weight[i] = 0.0027\n",
    "#         else:\n",
    "#             weight[i] = 0.00783\n",
    "    \n",
    "#     total_loss = ideal_weights - weight\n",
    "#     print(ideal_weights)\n",
    "#     print(weight)\n",
    "#     print(total_loss)\n",
    "\n",
    "#     loss = loss_fn(pred, total_loss.float())\n",
    "#     print(loss)\n",
    "#     loss.backward()\n",
    "#     optimizer.step()"
   ]
  },
  {
   "cell_type": "code",
   "execution_count": 17,
   "metadata": {},
   "outputs": [],
   "source": [
    "# class customAutograd(torch.autograd.Function):\n",
    "#     @staticmethod\n",
    "#     def forward(ctx, input):\n",
    "#         \"\"\"\n",
    "#         In the forward pass we receive a Tensor containing the input and return\n",
    "#         a Tensor containing the output. ctx is a context object that can be used\n",
    "#         to stash information for backward computation. You can cache arbitrary\n",
    "#         objects for use in the backward pass using the ctx.save_for_backward method.\n",
    "#         \"\"\"\n",
    "#         ctx.save_for_backward(input)\n",
    "#         return input / 2\n",
    "\n",
    "#     @staticmethod\n",
    "#     def backward(ctx, grad_output):\n",
    "#         \"\"\"\n",
    "#         In the backward pass we receive a Tensor containing the gradient of the loss\n",
    "#         with respect to the output, and we need to compute the gradient of the loss\n",
    "#         with respect to the input.\n",
    "#         \"\"\"\n",
    "#         input, = ctx.saved_tensors\n",
    "#         return grad_output * input"
   ]
  },
  {
   "cell_type": "code",
   "execution_count": 18,
   "metadata": {},
   "outputs": [],
   "source": [
    "# class testNet(nn.Module):\n",
    "#     def __init__(self):\n",
    "#         super(testNet, self).__init__()\n",
    "#         torch.manual_seed(12)\n",
    "#         self.elem_material = nn.Parameter(torch.rand(10), requires_grad=True)\n",
    "    \n",
    "#     def forward(self):\n",
    "#         print(self.elem_material)\n",
    "\n",
    "#         E_vector = 131 / (1 + torch.exp(-10 * (self.elem_material - torch.tensor([0.5] * 10)))) + 69\n",
    "#         Stif = E_vector * 10\n",
    "#         u = Stif / 2\n",
    "\n",
    "#         return u\n"
   ]
  },
  {
   "cell_type": "code",
   "execution_count": 19,
   "metadata": {},
   "outputs": [],
   "source": [
    "# net = testNet()\n",
    "\n",
    "# num_epochs = 10\n",
    "# learning_rate = 1\n",
    "# loss_fn = nn.MSELoss()\n",
    "# optimizer = torch.optim.SGD(net.parameters(), lr=learning_rate)\n",
    "\n",
    "# ideal_u = torch.tensor([5.0] * 10)\n",
    "\n",
    "# for epoch in range(num_epochs):\n",
    "#     optimizer.zero_grad()\n",
    "#     u = net()\n",
    "\n",
    "#     loss = loss_fn(u, ideal_u)\n",
    "#     loss.backward()\n",
    "\n",
    "#     for name, param in net.named_parameters():\n",
    "#         if param.requires_grad:\n",
    "#             print(name, param.grad)\n",
    "\n",
    "#     optimizer.step()"
   ]
  },
  {
   "cell_type": "code",
   "execution_count": 20,
   "metadata": {},
   "outputs": [],
   "source": [
    "device = torch.device('cuda' if torch.cuda.is_available() else 'cpu')"
   ]
  },
  {
   "cell_type": "code",
   "execution_count": 21,
   "metadata": {},
   "outputs": [],
   "source": [
    "class testFunc(torch.autograd.Function):\n",
    "    @staticmethod\n",
    "    def forward(ctx, mat):\n",
    "        ctx.save_for_backward(mat)\n",
    "\n",
    "        return torch.linalg.inv(mat)\n",
    "    \n",
    "    def backward(ctx, grad_output):\n",
    "        mat = ctx.saved_tensors[0]\n",
    "        print(mat)\n",
    "        matKron = torch.tensor(torch.kron(mat, mat), requires_grad=True)\n",
    "        matKron.backward(torch.ones_like(matKron))\n",
    "    \n",
    "        return torch.mm(grad_output, matKron)"
   ]
  },
  {
   "cell_type": "code",
   "execution_count": 22,
   "metadata": {},
   "outputs": [],
   "source": [
    "testFunction = testFunc.apply"
   ]
  },
  {
   "cell_type": "code",
   "execution_count": 23,
   "metadata": {},
   "outputs": [],
   "source": [
    "class testNet(nn.Module):\n",
    "    def __init__(self):\n",
    "        super(testNet, self).__init__()\n",
    "        self.mat = nn.Parameter(torch.rand((20, 20), requires_grad=True, device=device))\n",
    "\n",
    "    def forward(self):    \n",
    "        return testFunction(self.mat)"
   ]
  },
  {
   "cell_type": "code",
   "execution_count": 24,
   "metadata": {},
   "outputs": [],
   "source": [
    "# net = testNet()\n",
    "# net.to(device)\n",
    "# optimizer = torch.optim.SGD(net.parameters(), lr=0.1)\n",
    "# loss_fn = nn.MSELoss()\n",
    "\n",
    "# target = torch.zeros((20, 20), device=device)\n",
    "\n",
    "# for epoch in range(10):\n",
    "#     output = net()\n",
    "#     loss = loss_fn(output, target)\n",
    "#     loss.backward()\n",
    "#     optimizer.step()"
   ]
  },
  {
   "cell_type": "code",
   "execution_count": 25,
   "metadata": {},
   "outputs": [
    {
     "name": "stdout",
     "output_type": "stream",
     "text": [
      "torch.Size([10, 10]) (10, 1) \n",
      " tensor([[0.0271, 0.2151, 0.7820, 0.5134, 0.4355, 0.3072, 0.0737, 0.7715, 0.0422,\n",
      "         0.2670],\n",
      "        [0.5125, 0.3548, 0.1606, 0.1903, 0.1135, 0.8697, 0.9632, 0.8893, 0.5225,\n",
      "         0.6941],\n",
      "        [0.3968, 0.0639, 0.5050, 0.7526, 0.0627, 0.6014, 0.0559, 0.1256, 0.7948,\n",
      "         0.4883],\n",
      "        [0.2580, 0.5608, 0.7124, 0.1630, 0.7106, 0.1622, 0.3188, 0.5376, 0.8680,\n",
      "         0.2969],\n",
      "        [0.0148, 0.0853, 0.7770, 0.9735, 0.0798, 0.1825, 0.4132, 0.7279, 0.1326,\n",
      "         0.1005],\n",
      "        [0.1620, 0.2401, 0.6960, 0.5899, 0.8300, 0.1688, 0.3844, 0.9515, 0.6833,\n",
      "         0.1707],\n",
      "        [0.1260, 0.9503, 0.0543, 0.4494, 0.8870, 0.4177, 0.5973, 0.1598, 0.6201,\n",
      "         0.9309],\n",
      "        [0.6626, 0.9492, 0.9596, 0.8604, 0.9251, 0.8222, 0.7749, 0.1380, 0.8630,\n",
      "         0.8848],\n",
      "        [0.2015, 0.6912, 0.5956, 0.5532, 0.2850, 0.2663, 0.3537, 0.4955, 0.7461,\n",
      "         0.0488],\n",
      "        [0.8773, 0.7659, 0.6074, 0.7032, 0.8705, 0.1476, 0.5506, 0.8056, 0.6171,\n",
      "         0.6691]])\n",
      "torch.Size([10, 10]) (1, 10) \n",
      " tensor([[-0.1462,  0.0941,  0.0598, -0.7630, -0.7520,  0.1407, -0.9215,  0.4200,\n",
      "          0.1859,  1.0458],\n",
      "        [ 0.6968, -0.1107, -0.3954, -0.2879, -0.4202, -0.9347,  0.3328, -0.2043,\n",
      "          1.4745,  0.2542],\n",
      "        [ 0.2571, -0.1314, -0.1955,  1.6941,  0.8522, -1.0703, -0.4979,  0.4129,\n",
      "         -0.7295, -0.2305],\n",
      "        [-0.2660, -0.3858,  0.3527, -1.3439,  0.2881,  0.5978,  0.3009, -0.0130,\n",
      "          0.4618,  0.2146],\n",
      "        [ 0.1206, -0.2834, -0.3769, -1.1192, -0.9846,  1.7266, -0.0647,  0.7352,\n",
      "         -0.1891, -0.1433],\n",
      "        [ 1.0451,  0.4354,  0.0812, -1.8735, -1.6265,  1.0759, -0.3877,  0.8131,\n",
      "          1.0243, -0.7373],\n",
      "        [-1.4242,  0.4167, -0.8483,  0.5388,  1.2479,  0.1817, -0.1234,  0.6329,\n",
      "         -0.6761, -0.3339],\n",
      "        [ 0.6585,  0.3478,  0.0736, -0.1054, -0.2349,  0.0871,  0.1224, -0.8420,\n",
      "          0.3493,  0.3002],\n",
      "        [-0.8068, -0.0108,  0.6710,  0.9017,  0.1439,  0.1599,  0.1959, -0.4998,\n",
      "          0.0679, -0.2357],\n",
      "        [ 0.1761,  0.0490,  0.6442,  1.9260,  1.1536, -1.6570,  0.9062, -0.8600,\n",
      "         -1.6616,  0.2957]])\n",
      "torch.Size([10, 10]) (10, 1) \n",
      " tensor([[-0.1462,  0.0941,  0.0598, -0.7630, -0.7520,  0.1407, -0.9215,  0.4200,\n",
      "          0.1859,  1.0458],\n",
      "        [ 0.6968, -0.1107, -0.3954, -0.2879, -0.4202, -0.9347,  0.3328, -0.2043,\n",
      "          1.4745,  0.2542],\n",
      "        [ 0.2571, -0.1314, -0.1955,  1.6941,  0.8522, -1.0703, -0.4979,  0.4129,\n",
      "         -0.7295, -0.2305],\n",
      "        [-0.2660, -0.3858,  0.3527, -1.3439,  0.2881,  0.5978,  0.3009, -0.0130,\n",
      "          0.4618,  0.2146],\n",
      "        [ 0.1206, -0.2834, -0.3769, -1.1192, -0.9846,  1.7266, -0.0647,  0.7352,\n",
      "         -0.1891, -0.1433],\n",
      "        [ 1.0451,  0.4354,  0.0812, -1.8735, -1.6265,  1.0759, -0.3877,  0.8131,\n",
      "          1.0243, -0.7373],\n",
      "        [-1.4242,  0.4167, -0.8483,  0.5388,  1.2479,  0.1817, -0.1234,  0.6329,\n",
      "         -0.6761, -0.3339],\n",
      "        [ 0.6585,  0.3478,  0.0736, -0.1054, -0.2349,  0.0871,  0.1224, -0.8420,\n",
      "          0.3493,  0.3002],\n",
      "        [-0.8068, -0.0108,  0.6710,  0.9017,  0.1439,  0.1599,  0.1959, -0.4998,\n",
      "          0.0679, -0.2357],\n",
      "        [ 0.1761,  0.0490,  0.6442,  1.9260,  1.1536, -1.6570,  0.9062, -0.8600,\n",
      "         -1.6616,  0.2957]])\n"
     ]
    }
   ],
   "source": [
    "x = torch.rand((10, 10))\n",
    "y = torch.linalg.inv(x)\n",
    "z = torch.zeros((10, 10))\n",
    "for i in range(10):\n",
    "    for j in range(10):\n",
    "        z[i][j] = y[i][j]\n",
    "print(x.shape, x.stride(), '\\n', x)\n",
    "print(y.shape, y.stride(), '\\n', y)\n",
    "print(z.shape, z.stride(), '\\n', z)"
   ]
  },
  {
   "cell_type": "code",
   "execution_count": 26,
   "metadata": {},
   "outputs": [
    {
     "data": {
      "text/plain": [
       "tensor([ 3,  4,  5,  6,  8, 10,  9, 12, 15])"
      ]
     },
     "execution_count": 26,
     "metadata": {},
     "output_type": "execute_result"
    }
   ],
   "source": [
    "mat1 = torch.tensor([1, 2, 3])\n",
    "mat2 = torch.tensor([[3, 4, 5, 0, 0, 0, 0, 0, 0],\n",
    "                     [0, 0, 0, 3, 4, 5, 0, 0, 0],\n",
    "                     [0, 0, 0, 0, 0, 0, 3, 4, 5]])\n",
    "\n",
    "mat1 @ mat2"
   ]
  },
  {
   "cell_type": "code",
   "execution_count": 27,
   "metadata": {},
   "outputs": [
    {
     "ename": "RuntimeError",
     "evalue": "expand(torch.LongTensor{[9]}, size=[]): the number of sizes provided (0) must be greater or equal to the number of dimensions in the tensor (1)",
     "output_type": "error",
     "traceback": [
      "\u001b[1;31m---------------------------------------------------------------------------\u001b[0m",
      "\u001b[1;31mRuntimeError\u001b[0m                              Traceback (most recent call last)",
      "Cell \u001b[1;32mIn [27], line 5\u001b[0m\n\u001b[0;32m      3\u001b[0m \u001b[39mfor\u001b[39;00m i \u001b[39min\u001b[39;00m \u001b[39mrange\u001b[39m(\u001b[39m10\u001b[39m):\n\u001b[0;32m      4\u001b[0m     \u001b[39mfor\u001b[39;00m j \u001b[39min\u001b[39;00m \u001b[39mrange\u001b[39m(\u001b[39m10\u001b[39m):\n\u001b[1;32m----> 5\u001b[0m         mat3[i][j \u001b[39m+\u001b[39m k] \u001b[39m=\u001b[39m mat2[j]\n\u001b[0;32m      6\u001b[0m     k \u001b[39m=\u001b[39m k \u001b[39m+\u001b[39m \u001b[39m10\u001b[39m\n\u001b[0;32m      7\u001b[0m mat3\n",
      "\u001b[1;31mRuntimeError\u001b[0m: expand(torch.LongTensor{[9]}, size=[]): the number of sizes provided (0) must be greater or equal to the number of dimensions in the tensor (1)"
     ]
    }
   ],
   "source": [
    "mat3 = torch.zeros((10, 100))\n",
    "k = 0\n",
    "for i in range(10):\n",
    "    for j in range(10):\n",
    "        mat3[i][j + k] = mat2[j]\n",
    "    k = k + 10\n",
    "mat3"
   ]
  },
  {
   "cell_type": "code",
   "execution_count": 28,
   "metadata": {},
   "outputs": [],
   "source": [
    "def manualKron(mat1, mat2):\n",
    "    initSize = 2\n",
    "    kronSize = initSize ** 2\n",
    "    kron = torch.zeros((kronSize, kronSize))\n",
    "    x = 0\n",
    "    for i in range(initSize):\n",
    "        for k in range(initSize):\n",
    "            y = 0\n",
    "            for j in range(initSize):\n",
    "                for l in range(initSize):\n",
    "                    kron[x][y] = mat1[i][j].item() * mat2[k][l].item()\n",
    "                    y += 1\n",
    "            x += 1\n",
    "    return kron"
   ]
  },
  {
   "cell_type": "code",
   "execution_count": 34,
   "metadata": {},
   "outputs": [
    {
     "data": {
      "text/plain": [
       "tensor([[ 0.0000, -0.2500,  0.5000, -0.2500],\n",
       "        [-0.2500, -4.0625,  2.8750,  0.4375],\n",
       "        [ 0.5000,  2.8750, -2.2500, -0.1250],\n",
       "        [-0.2500,  0.4375, -0.1250, -0.0625]], grad_fn=<LinalgInvExBackward0>)"
      ]
     },
     "execution_count": 34,
     "metadata": {},
     "output_type": "execute_result"
    }
   ],
   "source": [
    "mat1 = torch.tensor([[2.0, 2.0, 3.0, 0.0],\n",
    "                     [2.0, 3.0, 4.0, 5.0],\n",
    "                     [3.0, 4.0, 5.0, 6.0],\n",
    "                     [0.0, 5.0, 6.0, 7.0]], requires_grad=True)\n",
    "mat2 = torch.linalg.inv(mat1)\n",
    "mat2"
   ]
  }
 ],
 "metadata": {
  "kernelspec": {
   "display_name": "Python 3.10.7 64-bit (microsoft store)",
   "language": "python",
   "name": "python3"
  },
  "language_info": {
   "codemirror_mode": {
    "name": "ipython",
    "version": 3
   },
   "file_extension": ".py",
   "mimetype": "text/x-python",
   "name": "python",
   "nbconvert_exporter": "python",
   "pygments_lexer": "ipython3",
   "version": "3.10.7"
  },
  "orig_nbformat": 4,
  "vscode": {
   "interpreter": {
    "hash": "87e71b922caa86329377ca3f8aa0dceb4b1830998398065218a797cfca03030a"
   }
  }
 },
 "nbformat": 4,
 "nbformat_minor": 2
}
