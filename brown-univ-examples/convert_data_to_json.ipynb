{
 "cells": [
  {
   "cell_type": "code",
   "execution_count": 7,
   "metadata": {},
   "outputs": [],
   "source": [
    "import json"
   ]
  },
  {
   "cell_type": "code",
   "execution_count": 8,
   "metadata": {},
   "outputs": [],
   "source": [
    "infile = open('FEM_conststrain_input.txt', 'r')\n",
    "#infile = open('FEM_constrain_holeplate.txt', 'r')"
   ]
  },
  {
   "cell_type": "code",
   "execution_count": 9,
   "metadata": {},
   "outputs": [],
   "source": [
    "var_dict = {}\n",
    "nodeCoordFlag = False\n",
    "connectFlag = False\n",
    "fixNodeFlag = False\n",
    "dloadFlag = False\n",
    "coordArray = []\n",
    "connectArray = []\n",
    "fixNodeArray = []\n",
    "dloadArray = []\n",
    "\n",
    "for line in infile:\n",
    "    splits = line.split()\n",
    "    if splits[0] == \"Young's_modulus:\":\n",
    "        var_dict[\"E\"] = eval(splits[1])\n",
    "    if splits[0] == \"Poissons_ratio:\":\n",
    "        var_dict[\"nu\"] = eval(splits[1])\n",
    "    if splits[0] == \"No._nodes:\":\n",
    "        var_dict[\"nnode\"] = eval(splits[1])\n",
    "    if splits[0] == \"No._elements:\":\n",
    "        nodeCoordFlag = False\n",
    "        var_dict[\"coord\"] = coordArray\n",
    "        var_dict[\"nelem\"] = eval(splits[1])\n",
    "    if nodeCoordFlag:\n",
    "        coordArray.append([eval(splits[0]), eval(splits[1])])\n",
    "    if splits[0] == \"Nodal_coords:\":\n",
    "        nodeCoordFlag = True\n",
    "    if splits[0] == \"No._nodes_with_prescribed_DOFs:\":\n",
    "        connectFlag = False\n",
    "        var_dict[\"connect\"] = connectArray\n",
    "        var_dict[\"nfix\"] = eval(splits[1])\n",
    "    if connectFlag:\n",
    "        connectArray.append([eval(splits[0]) - 1, eval(splits[1]) - 1, eval(splits[2]) - 1])\n",
    "    if splits[0] == \"Element_connectivity:\":\n",
    "        connectFlag = True\n",
    "    if splits[0] == \"No._elements_with_prescribed_loads:\":\n",
    "        fixNodeFlag = False\n",
    "        var_dict[\"fixnodes\"] = fixNodeArray\n",
    "        var_dict[\"ndload\"] = eval(splits[1])\n",
    "    if fixNodeFlag:\n",
    "        fixNodeArray.append([eval(splits[0]) - 1, eval(splits[1]) - 1, eval(splits[2])])\n",
    "    if splits[0] == \"Node_#\":\n",
    "        fixNodeFlag = True\n",
    "    if dloadFlag:\n",
    "        dloadArray.append([eval(splits[0]) - 1, eval(splits[1]) - 1, eval(splits[2]), eval(splits[3])])\n",
    "    if splits[0] == \"Element_#\":\n",
    "        dloadFlag = True\n",
    "\n",
    "var_dict[\"dloads\"] = dloadArray\n",
    "\n"
   ]
  },
  {
   "cell_type": "code",
   "execution_count": 10,
   "metadata": {},
   "outputs": [
    {
     "data": {
      "text/plain": [
       "{'E': 100.0,\n",
       " 'nu': 0.3,\n",
       " 'nnode': 4,\n",
       " 'coord': [[0.0, 0.0], [1.0, 0.0], [0.0, 1.0], [1.0, 1.0]],\n",
       " 'nelem': 2,\n",
       " 'connect': [[0, 1, 2], [1, 3, 2]],\n",
       " 'nfix': 4,\n",
       " 'fixnodes': [[0, 0, 0.0], [0, 1, 0.0], [2, 0, 0.0], [2, 1, 0.0]],\n",
       " 'ndload': 1,\n",
       " 'dloads': [[1, 0, -10.0, 0.0]]}"
      ]
     },
     "execution_count": 10,
     "metadata": {},
     "output_type": "execute_result"
    }
   ],
   "source": [
    "var_dict"
   ]
  },
  {
   "cell_type": "code",
   "execution_count": 11,
   "metadata": {},
   "outputs": [],
   "source": [
    "infile.close()"
   ]
  },
  {
   "cell_type": "code",
   "execution_count": 12,
   "metadata": {},
   "outputs": [],
   "source": [
    "with open(\"FEM_converted.json\", \"w\") as outfile:\n",
    "    json.dump(var_dict, outfile)"
   ]
  },
  {
   "cell_type": "code",
   "execution_count": null,
   "metadata": {},
   "outputs": [],
   "source": []
  }
 ],
 "metadata": {
  "kernelspec": {
   "display_name": "Python 3.10.6 64-bit",
   "language": "python",
   "name": "python3"
  },
  "language_info": {
   "codemirror_mode": {
    "name": "ipython",
    "version": 3
   },
   "file_extension": ".py",
   "mimetype": "text/x-python",
   "name": "python",
   "nbconvert_exporter": "python",
   "pygments_lexer": "ipython3",
   "version": "3.10.6"
  },
  "orig_nbformat": 4,
  "vscode": {
   "interpreter": {
    "hash": "2469a70536e4d2335a2ea8907942d0699c37342a371ac185bdb5b0aa6f073890"
   }
  }
 },
 "nbformat": 4,
 "nbformat_minor": 2
}
